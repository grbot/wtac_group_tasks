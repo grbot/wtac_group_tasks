{
 "cells": [
  {
   "cell_type": "markdown",
   "metadata": {},
   "source": [
    "# Title: Analysis of the transcriptional landscape in a knock out parasite (1)\n",
    "\n",
    "_Plasmodium falciparum_ is the causative agent of the most dangerous form of malaria in humans. The reference genome for _P. falciparum strain 3D7_ was determined and published about 15 years ago (Gardener et al., 2002). Since then, the genomes of several other species of _Plasmodium_ that infect humans or animals have been elucidated. \n",
    "\n",
    "Malaria is widespread in tropical and subtropical regions, including parts of Asia, Africa, and the Americas. Each year, there are approximately 350–500 million cases of malaria killing more than one million people, the majority of whom are young children in sub-Saharan Africa.\n",
    "\n",
    "As working within human is not feasible, mouse models are used like _Plasmodium berghei_ or _Plasmodium chabaudi_. They can easily be maintained in the lab and mirror specific phenotypes as found in human malaria.\n",
    "\n",
    "A colleague of yours knocked out a gene (**PBANKA_KO**) in the rodent malaria parasite **_Plasmodium berghei_**. Over the last three months, she generated different biological replicates of the wild type (**WT**) and the knock out (**KO**) to understand differences between both lines. \n",
    "\n",
    "She needs to find out what the function of the gene is to finalize her grant application and she has a meeting with her boss to go through the **FINAL** results this afternoon!!! \n",
    "\n",
    "Unfortunately, on the way to work, she broke both her hands cycling and cannot do the analysis!!!! Can you help her out?\n",
    "\n",
    "You can find the data for this project on your VM:\n",
    "\n",
    "  **/home/manager/course_data/group_projects/RNASeq_1**\n",
    "\n",
    "Your job is to understand the implication of the knock out of the gene.\n",
    "\n",
    "  * What influence does it have?   \n",
    "  * What is the name of the knock out gene?\n",
    "  * How did you determine those?  \n",
    "\n",
    "Use your knowledge from the RNA-Seq module. It might be worth giving the tasks of genome mapping/visualisation and the transcriptome mapping/analysis to different team members so that you can run them at the same time. _Careful, some of the needed files might not be present..._\n",
    "\n",
    "Useful sites:\n",
    "\n",
    "* www.plasmodb.org - Gene information and GO enrichment (ask your instructor if/when you get to this point)\n",
    "* www.genedb.org\n",
    "* ftp://ftp.sanger.ac.uk/pub/project/pathogens/gff3/CURRENT/ - for annotation – look for Pberghei*gff3*\n",
    "\n",
    "Can you save your poor colleagues and save the grant....?"
   ]
  }
 ],
 "metadata": {
  "anaconda-cloud": {},
  "kernelspec": {
   "display_name": "Bash",
   "language": "bash",
   "name": "bash"
  },
  "language_info": {
   "codemirror_mode": "shell",
   "file_extension": ".sh",
   "mimetype": "text/x-sh",
   "name": "bash"
  }
 },
 "nbformat": 4,
 "nbformat_minor": 2
}
