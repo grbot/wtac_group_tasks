{
 "cells": [
  {
   "cell_type": "markdown",
   "metadata": {},
   "source": [
    "# ChIP-Seq Project 1: Sequencing depth and Chromatin Environment"
   ]
  },
  {
   "cell_type": "markdown",
   "metadata": {},
   "source": [
    "The following tasks have been adapted from materials developed by Angela Goncalves, Myrto Kostadima, Steven Wilder and Maria Xenophontos."
   ]
  },
  {
   "cell_type": "markdown",
   "metadata": {},
   "source": [
    "## Sequencing depth"
   ]
  },
  {
   "cell_type": "markdown",
   "metadata": {},
   "source": [
    "One of the most frequent questions that come up in ChIP-seq experiments is whether the sequencing depth is sufficient.\n",
    "\n",
    "The more we sequence a ChIP-seq library, the more peaks of low fold change we will identify. Therefore, the only way to answer that question is to look for the number of peaks identified when we down sample our library. To test for sufficient sequencing depth in our sample we will down sample our ChIP and Control datasets to 10%, 20%, .., 90% of the initial library size and call peaks. To do so, we will use the functions **randsample** and **callpeak** from macs2, respectively.\n",
    "\n",
    "**First, go to the group_projects folder.**"
   ]
  },
  {
   "cell_type": "code",
   "execution_count": null,
   "metadata": {
    "collapsed": true
   },
   "outputs": [],
   "source": [
    "cd /home/manager/course_data/group_projects"
   ]
  },
  {
   "cell_type": "markdown",
   "metadata": {},
   "source": [
    "**Check to see if the ChIPSeq-Project1 folder exists.**"
   ]
  },
  {
   "cell_type": "code",
   "execution_count": null,
   "metadata": {
    "collapsed": true
   },
   "outputs": [],
   "source": [
    "ls ChIPSeq-Project1"
   ]
  },
  {
   "cell_type": "markdown",
   "metadata": {},
   "source": [
    "**If this folder doesn't exist, please check with your course instructor.**"
   ]
  },
  {
   "cell_type": "markdown",
   "metadata": {},
   "source": [
    "**Once you have the data, go into the ChIPSeq-Project1 directory.**"
   ]
  },
  {
   "cell_type": "code",
   "execution_count": null,
   "metadata": {
    "collapsed": true
   },
   "outputs": [],
   "source": [
    "cd ChIPSeq-Project1"
   ]
  },
  {
   "cell_type": "markdown",
   "metadata": {},
   "source": [
    "Below are a series of commands which will downsample the ChIP and Control datasets to 10%, 20%, .., 90% of the initial library size and call peaks. To do this we use a while loop which will start counting from 10 (`i=10`), in intervals of 10 (e.g. 10, 20, 30...) (`((i = i + 10))`) up to 100 (`$i -lt 100`). The value which is being counted is stored in a variable called `i` that is then referenced in other commands using `$i`. Finally, to make sure we know where we are in the loop, we will print a message in the terminal `echo \"Looking at ${i}% of the reads\"`.\n",
    "\n",
    "The command we are using to downsample the ChIP and Control datasets reads is `macs2 randsample` which we will be giving an input file `-t`, a percentage `-p`, an output file `-o`, an output directory `--outdir` and the format of the input file `-f`.\n",
    "\n",
    "**Look at the usage for `macs2 randsample`.**"
   ]
  },
  {
   "cell_type": "code",
   "execution_count": null,
   "metadata": {
    "collapsed": true
   },
   "outputs": [],
   "source": [
    "macs2 randsample -h"
   ]
  },
  {
   "cell_type": "markdown",
   "metadata": {},
   "source": [
    "We then call the peaks for each set of downsampled reads using `macs2 callpeak` in a similar way to the ChIP-Seq tutorial.\n",
    "\n",
    "**Type the commands below into a file called `project1.sh`.**"
   ]
  },
  {
   "cell_type": "code",
   "execution_count": null,
   "metadata": {
    "collapsed": true
   },
   "outputs": [],
   "source": [
    "i=10\n",
    "\n",
    "while [[ $i -lt 100 ]]\n",
    "do\n",
    "\n",
    "echo \"Looking at ${i}% of the reads\"\n",
    "\n",
    "macs2 randsample -t PAX5.bam -p $i -o PAX5.perc${i}.bed \\\n",
    "--outdir macs2_downsample -f BAM\n",
    "\n",
    "macs2 randsample -t Control.bam -p $i -o Control.perc${i}.bed \\\n",
    "--outdir macs2_downsample -f BAM\n",
    "\n",
    "macs2 callpeak -t macs2_downsample/PAX5.perc${i}.bed \\\n",
    "-c macs2_downsample/Control.perc${i}.bed --gsize 138000000 \\\n",
    "--format BED --name macs2_downsample/PAX5.perc${i} \\\n",
    "--pvalue 1e-3 --call-summits\n",
    "\n",
    "((i = i + 10))\n",
    "\n",
    "done"
   ]
  },
  {
   "cell_type": "markdown",
   "metadata": {},
   "source": [
    "**Now, make your script executable.**"
   ]
  },
  {
   "cell_type": "code",
   "execution_count": null,
   "metadata": {
    "collapsed": true
   },
   "outputs": [],
   "source": [
    "chmod u+x project1.sh"
   ]
  },
  {
   "cell_type": "markdown",
   "metadata": {},
   "source": [
    "**And run the script.**"
   ]
  },
  {
   "cell_type": "code",
   "execution_count": null,
   "metadata": {
    "collapsed": true
   },
   "outputs": [],
   "source": [
    "./project1.sh"
   ]
  },
  {
   "cell_type": "markdown",
   "metadata": {},
   "source": [
    "Next, we want to plot the number of peaks called in each of the downsampled datasets. To do this we will use `R`.  First we tell R where to find our output files using `setwd`. We then use a for loop to extract only the peaks whose overall enrichment meets a threshold value (`fc.thres <- 4` and `peaks <- peaks[peaks[, 7] > fc.thres, ]`). We then count those peaks (`no.peaks <- c(no.peaks, nrow(peaks))`). Finally, we plot the number of peaks vs the percentage, saving the output to `peaks_vs_percentage.jpg`."
   ]
  },
  {
   "cell_type": "markdown",
   "metadata": {},
   "source": [
    "**Type the following commands into a file called `script.R`.**"
   ]
  },
  {
   "cell_type": "code",
   "execution_count": null,
   "metadata": {
    "collapsed": true
   },
   "outputs": [],
   "source": [
    "rm(list = ls())\n",
    "\n",
    "options(stringsAsFactors=F)\n",
    "setwd( \"/home/manager/course_data/group_projects/ChIPSeq-Project1\" )\n",
    "\n",
    "fc.thres <- 4\n",
    "\n",
    "no.peaks <- c()\n",
    "for(row in seq(from=10, to = 90, by = 10))\n",
    "{\n",
    "\tprint(row)\n",
    "    \n",
    "\tpeaks <- read.table(paste(\"macs2_downsample/PAX5.perc\", \n",
    "    row, \"_peaks.narrowPeak\", sep=\"\"))\n",
    "    \n",
    "\tpeaks <- peaks[peaks[, 7] > fc.thres, ]\n",
    "\n",
    "\tno.peaks <- c(no.peaks, nrow(peaks))\n",
    "}\n",
    "\n",
    "peaks <- read.table(\"PAX5_peaks.narrowPeak\")\n",
    "peaks <- peaks[peaks[, 7] > fc.thres, ]\n",
    "no.peaks <- c(no.peaks, nrow(peaks))\n",
    "\n",
    "\n",
    "jpeg('peaks_vs_percentage.jpg')\n",
    "\n",
    "plot(seq(from=10, to = 100, by = 10), no.peaks, \n",
    "type=\"o\", col=\"blue\", xlab=\"Percentage of reads\", ylab=\"Number of peaks\")\n",
    "\n",
    "dev.off()"
   ]
  },
  {
   "cell_type": "markdown",
   "metadata": {},
   "source": [
    "**Use `Rscript` to run your R script.**"
   ]
  },
  {
   "cell_type": "code",
   "execution_count": null,
   "metadata": {
    "collapsed": true
   },
   "outputs": [],
   "source": [
    "Rscript script.R"
   ]
  },
  {
   "cell_type": "markdown",
   "metadata": {},
   "source": [
    "**Let's take a look at the plot.**"
   ]
  },
  {
   "cell_type": "code",
   "execution_count": null,
   "metadata": {
    "collapsed": true
   },
   "outputs": [],
   "source": [
    "eog peaks_vs_percentage.jpg"
   ]
  },
  {
   "cell_type": "markdown",
   "metadata": {},
   "source": [
    "**Q1: Do you think that we have sequenced enough?**"
   ]
  },
  {
   "cell_type": "markdown",
   "metadata": {},
   "source": [
    "Close the file when you have finished looking at the plot."
   ]
  },
  {
   "cell_type": "markdown",
   "metadata": {},
   "source": [
    "## Chromatin Environment"
   ]
  },
  {
   "cell_type": "markdown",
   "metadata": {},
   "source": [
    "The goal of this hands-on session is to investigate the chromatin environment around gene features and regulatory elements. We will be plotting where the different histone modifications occur in relation to genes. We will also look at how we can distinguish different genes based on transcription and chromatin environment."
   ]
  },
  {
   "cell_type": "markdown",
   "metadata": {},
   "source": [
    "### Prepare environment"
   ]
  },
  {
   "cell_type": "markdown",
   "metadata": {},
   "source": [
    "We will be using ENCODE GM12878 histone modifications. The BAM alignment files have been downloaded from http://www.encodeproject.org. All ENCODE experiments had at least 2 technical replicates, but we will only be using the first replicate for simplicity.\n",
    "\n",
    "We will be using **ngsplot** https://github.com/shenlab-sinai/ngsplot to visualise these datasets at transcription start sites. The ngsplot database for the human gene set has been generated from the Ensembl http://www.ensembl.org and RefSeq http://www.ncbi.nlm.nih.gov/refseq/ gene sets, by default using the Ensembl set."
   ]
  },
  {
   "cell_type": "markdown",
   "metadata": {},
   "source": [
    "**Make sure that the location where we want to write the database to is writable.**"
   ]
  },
  {
   "cell_type": "code",
   "execution_count": null,
   "metadata": {
    "collapsed": true
   },
   "outputs": [],
   "source": [
    "sudo chmod -R 777 /usr/local/bioinf-recipes/ngsplot-2.63"
   ]
  },
  {
   "cell_type": "markdown",
   "metadata": {},
   "source": [
    "**When prompted, type the password for manager which is `manager`.**"
   ]
  },
  {
   "cell_type": "markdown",
   "metadata": {},
   "source": [
    "**Next, make sure that the following R libraries are installed.**"
   ]
  },
  {
   "cell_type": "code",
   "execution_count": null,
   "metadata": {
    "collapsed": true
   },
   "outputs": [],
   "source": [
    "sudo R "
   ]
  },
  {
   "cell_type": "markdown",
   "metadata": {},
   "source": [
    "**In R, type the following commands. When prompted, type `n` so that other packages are not updated.**"
   ]
  },
  {
   "cell_type": "markdown",
   "metadata": {},
   "source": [
    "    source(\"https://bioconductor.org/biocLite.R\")\n",
    "    BiocInstaller::biocLite(c(\"ShortRead\", \"BSgenome\", \"doMC\"))"
   ]
  },
  {
   "cell_type": "markdown",
   "metadata": {},
   "source": [
    "**To quit R type `q()` and enter `n` when prompted.**"
   ]
  },
  {
   "cell_type": "markdown",
   "metadata": {},
   "source": [
    "**Now, install the database using `ngsplotdb.py`.**"
   ]
  },
  {
   "cell_type": "code",
   "execution_count": null,
   "metadata": {
    "collapsed": true
   },
   "outputs": [],
   "source": [
    "echo 'Y' | ngsplotdb.py install ngsplotdb_hg19_75_3.00.tar.gz"
   ]
  },
  {
   "cell_type": "markdown",
   "metadata": {},
   "source": [
    "**Look at the usage for `ngs.plot.r`.**"
   ]
  },
  {
   "cell_type": "code",
   "execution_count": null,
   "metadata": {
    "collapsed": true
   },
   "outputs": [],
   "source": [
    "ngs.plot.r"
   ]
  },
  {
   "cell_type": "markdown",
   "metadata": {},
   "source": [
    "Further help on the ngsplot options can be found at https://github.com/shenlab-sinai/ngsplot/wiki/ProgramArguments101.\n",
    "\n",
    "The histone modifications we will be looking at today are all thought to play different roles in the regulation of gene expression and the putative functions, according to the ENCODE Project, are summarised in the table. We will look at them individually in this exercise, but later will be integrating multiple histone modifications."
   ]
  },
  {
   "cell_type": "markdown",
   "metadata": {},
   "source": [
    "![figure 1](images/figure1.png)"
   ]
  },
  {
   "cell_type": "markdown",
   "metadata": {},
   "source": [
    "_Figure 1: The histone modifications are named by the histone tail, location in the protein sequence and the biochemical modification, e.g. H3K4me3, refers to the trimethylation of the lysine (K) in the fourth position in the protein sequence of histone 3 tail._"
   ]
  },
  {
   "cell_type": "markdown",
   "metadata": {
    "collapsed": true
   },
   "source": [
    "![figure 2](images/figure2.png)"
   ]
  },
  {
   "cell_type": "markdown",
   "metadata": {},
   "source": [
    "_Figure 2: A summary of the putative functions of various histone marks, according to the ENCODE Project._"
   ]
  },
  {
   "cell_type": "markdown",
   "metadata": {},
   "source": [
    "### Transcription Start Sites"
   ]
  },
  {
   "cell_type": "markdown",
   "metadata": {},
   "source": [
    "It has been shown that the chromatin state, i.e. the combination of all regulatory variations at the chromatin level, in the neighbourhood of a gene has a large effect on its transcription. We will therefore start by looking at the genome-wide profiles of the selected histone marks around TSS."
   ]
  },
  {
   "cell_type": "markdown",
   "metadata": {},
   "source": [
    "**Plot the distribution of H3K4me1 around protein-coding gene TSS (this may take a few minutes to run).**"
   ]
  },
  {
   "cell_type": "code",
   "execution_count": null,
   "metadata": {
    "collapsed": true
   },
   "outputs": [],
   "source": [
    "ngs.plot.r -G hg19 -O H3k4me1.tss -FL 150 -R cgi \\\n",
    "-C H3k4me1.bam -T H3k4me1"
   ]
  },
  {
   "cell_type": "markdown",
   "metadata": {},
   "source": [
    "**Q2: You can now view the H3K4me1 aggregation plots and heatmaps in your folder. Where does the majority of the H3K4me1 signal appear in relation to TSS?**"
   ]
  },
  {
   "cell_type": "markdown",
   "metadata": {},
   "source": [
    "**Q3: What proportion of genes display this pattern?**"
   ]
  },
  {
   "cell_type": "markdown",
   "metadata": {},
   "source": [
    "**Repeat these plots for other histone modifications.**"
   ]
  },
  {
   "cell_type": "code",
   "execution_count": null,
   "metadata": {
    "collapsed": true
   },
   "outputs": [],
   "source": [
    "ngs.plot.r -G hg19 -O H3k4me3.tss -FL 150 -R tss \\\n",
    "-C H3k4me3.bam -T H3k4me3"
   ]
  },
  {
   "cell_type": "markdown",
   "metadata": {},
   "source": [
    "ngsplot also enables you to correct the ChIP sample using the control sample. This aims to correct for any genome biases in alignability, GC content etc."
   ]
  },
  {
   "cell_type": "markdown",
   "metadata": {},
   "source": [
    "**Let's give this a try.**"
   ]
  },
  {
   "cell_type": "code",
   "execution_count": null,
   "metadata": {
    "collapsed": true
   },
   "outputs": [],
   "source": [
    "ngs.plot.r -G hg19 -O H3k4me3_Control.tss -FL 150 \\\n",
    "-R tss -C H3k4me3.bam:Control.bam -T H3k4me3:Control"
   ]
  },
  {
   "cell_type": "markdown",
   "metadata": {},
   "source": [
    "_Note: If you get an error about the alignment not being sorted, try sorting your BAM file and using the sorted file instead._"
   ]
  },
  {
   "cell_type": "markdown",
   "metadata": {},
   "source": [
    "You can now also plot the signal aroung specific annotated regions, such as Ensembl gene bodies. H3K36me3 is known to be enriched over transcribed genes."
   ]
  },
  {
   "cell_type": "markdown",
   "metadata": {},
   "source": [
    "**Let's give this a try.**"
   ]
  },
  {
   "cell_type": "code",
   "execution_count": null,
   "metadata": {
    "collapsed": true
   },
   "outputs": [],
   "source": [
    "ngs.plot.r -G hg19 -O H3k36me3 -FL 150 -R genebody \\\n",
    "-C H3k36me3.bam -T H3k36me3"
   ]
  },
  {
   "cell_type": "markdown",
   "metadata": {},
   "source": [
    "**Q4: Can you detect any patterns in this enrichment?**"
   ]
  },
  {
   "cell_type": "markdown",
   "metadata": {},
   "source": [
    "You can use configuration files in ngsplot to draw multiple graphs on the same plot. For instance, we will plot multiple histone modifications on the same plot, and also subset the genes, based on gene expression.\n",
    "\n",
    "Using a text editor, create the following tab-separated file, called `multhist.txt` for drawing two histones modifications on the same plot. -1 corresponds to looking at the whole genome."
   ]
  },
  {
   "cell_type": "markdown",
   "metadata": {},
   "source": [
    "    |-------------|----|---------|\n",
    "    | H3k4me1.bam | -1 | H3k4me1 |\n",
    "    | H3k4me3.bam | -1 | H3k4me3 |"
   ]
  },
  {
   "cell_type": "markdown",
   "metadata": {},
   "source": [
    "**Run the following command to plot the graphs:**"
   ]
  },
  {
   "cell_type": "code",
   "execution_count": null,
   "metadata": {
    "collapsed": true
   },
   "outputs": [],
   "source": [
    "ngs.plot.r -G hg19 -O H3k4me1.H3k4me3 -FL 150 -R tss \\\n",
    "-C multhist.txt -T H3k4me1.H3k4me3"
   ]
  },
  {
   "cell_type": "markdown",
   "metadata": {},
   "source": [
    "**Q5: Are the patterns you observe consistent with the putative functions of the modification in the table given above?**"
   ]
  },
  {
   "cell_type": "markdown",
   "metadata": {},
   "source": [
    "### Gene Expression"
   ]
  },
  {
   "cell_type": "markdown",
   "metadata": {},
   "source": [
    "You will now use RNA-seq data form the same cell type results to separate all of the Ensembl genes into three categories, based on the expression (FPKM values) of the genes. The file containing the FPKMs for GM12878 whole cell RNA-seq is called `genes.fpkm_tracking`. These FPKM values have been computed by Cufflinks."
   ]
  },
  {
   "cell_type": "markdown",
   "metadata": {},
   "source": [
    "**Read the first few lines of the GM12878 whole cell genes.fpkm_tracking file.**"
   ]
  },
  {
   "cell_type": "code",
   "execution_count": null,
   "metadata": {
    "collapsed": true
   },
   "outputs": [],
   "source": [
    "head -n 10 genes.fpkm_tracking"
   ]
  },
  {
   "cell_type": "markdown",
   "metadata": {},
   "source": [
    "**Remove the header line.**"
   ]
  },
  {
   "cell_type": "code",
   "execution_count": null,
   "metadata": {
    "collapsed": true
   },
   "outputs": [],
   "source": [
    "sed '1d' genes.fpkm_tracking > genes.fpkm.txt"
   ]
  },
  {
   "cell_type": "markdown",
   "metadata": {},
   "source": [
    "**Sort the genes by FPKM score.**"
   ]
  },
  {
   "cell_type": "code",
   "execution_count": null,
   "metadata": {
    "collapsed": true
   },
   "outputs": [],
   "source": [
    "sort -k10 -n -r genes.fpkm.txt > genes.fpkm.sorted.txt"
   ]
  },
  {
   "cell_type": "markdown",
   "metadata": {},
   "source": [
    "**Count the number of genes.**"
   ]
  },
  {
   "cell_type": "code",
   "execution_count": null,
   "metadata": {
    "collapsed": true
   },
   "outputs": [],
   "source": [
    "wc -l genes.fpkm.sorted.txt"
   ]
  },
  {
   "cell_type": "markdown",
   "metadata": {},
   "source": [
    "**Use `head`, `sed` and `awk` to pull out the Highest, Lowest and Intermediate expression genes.**"
   ]
  },
  {
   "cell_type": "code",
   "execution_count": null,
   "metadata": {
    "collapsed": true
   },
   "outputs": [],
   "source": [
    "head -n 5000 genes.fpkm.sorted.txt | \\\n",
    "awk '{print $1}' > high_expressed_genes.txt"
   ]
  },
  {
   "cell_type": "code",
   "execution_count": null,
   "metadata": {
    "collapsed": true
   },
   "outputs": [],
   "source": [
    "awk '{ if($10 ==0) {print $1} }' \\\n",
    "genes.fpkm.sorted.txt > low_expressed_genes.txt"
   ]
  },
  {
   "cell_type": "code",
   "execution_count": null,
   "metadata": {
    "collapsed": true
   },
   "outputs": [],
   "source": [
    "sed -n '10001,15000p' genes.fpkm.sorted.txt | \\\n",
    "awk '{print $1}' > mid_expressed_genes.txt"
   ]
  },
  {
   "cell_type": "markdown",
   "metadata": {},
   "source": [
    "**Create a tab-delimited configuration file expression.txt in a text editor containing the following lines.**"
   ]
  },
  {
   "cell_type": "markdown",
   "metadata": {},
   "source": [
    "    |--------------|--------------------------|--------|\n",
    "    | H3k27me3.bam | high_expressed_genes.txt | \"High\" |\n",
    "    | H3k27me3.bam | mid_expressed_genes.txt  | \"Med\"  |\n",
    "    | H3k27me3.bam | low_expressed_genes.txt  | \"Low\"  |"
   ]
  },
  {
   "cell_type": "markdown",
   "metadata": {},
   "source": [
    "**Then run the following command.**"
   ]
  },
  {
   "cell_type": "code",
   "execution_count": null,
   "metadata": {
    "collapsed": true
   },
   "outputs": [],
   "source": [
    "ngs.plot.r -G hg19 -R genebody -C expression.txt \\\n",
    "-O H3k27me3.express.genebody -D ensembl \\\n",
    "-FL 300 -T H3k27me3.expression"
   ]
  },
  {
   "cell_type": "markdown",
   "metadata": {},
   "source": [
    "**Q6: What patterns can you see?**"
   ]
  },
  {
   "cell_type": "markdown",
   "metadata": {},
   "source": [
    "If you made it to here, well done!"
   ]
  }
 ],
 "metadata": {
  "anaconda-cloud": {},
  "kernelspec": {
   "display_name": "Bash",
   "language": "bash",
   "name": "bash"
  },
  "language_info": {
   "codemirror_mode": "shell",
   "file_extension": ".sh",
   "mimetype": "text/x-sh",
   "name": "bash"
  }
 },
 "nbformat": 4,
 "nbformat_minor": 2
}
