{
 "cells": [
  {
   "cell_type": "markdown",
   "metadata": {},
   "source": [
    "# Group Task 2 Answers\n",
    "\n",
    "Given an RNA-Seq experiment with a knocked out gene, you were asked to answer the following questions:\n",
    "\n",
    "  * **What is the name of the knock out gene?**\n",
    "  \n",
    "  \n",
    "  * **What influence does it have?**   \n",
    "  \n",
    "  \n",
    "  * **How did you determine those?**  \n",
    "  "
   ]
  },
  {
   "cell_type": "markdown",
   "metadata": {},
   "source": [
    "***"
   ]
  },
  {
   "cell_type": "markdown",
   "metadata": {},
   "source": [
    "## Dataset\n",
    "\n",
    "You were given the following files in order to conduct the analysis:\n",
    "\n",
    "  * Wild type sample reads in FASTQ format  \n",
    "    `WT[replicate]_[1|2].fq.gz`  \n",
    "\n",
    "\n",
    "  * Knockout sample reads in FASTQ format  \n",
    "    `KO[replicate]_[1|2].fq.gz`\n",
    "  \n",
    "  \n",
    "  * _P. berghi_ genome in FASTA format  \n",
    "    `PbANKA_v3.fasta`\n",
    "    \n",
    "    \n",
    "  * _P. berghi_ transcripts in FASTA format  \n",
    "    `Pb.CDS.fasta`\n",
    "    \n",
    "\n",
    "  * _P. berghi_ annotations in GFF format  \n",
    "    `PbANKA_v3.gff3.gz`\n",
    "    \n",
    "    \n",
    "  * _P. berghi_ gene descriptions in TSV format  \n",
    "    `Pb.names.txt`\n",
    "      \n",
    "    \n",
    "  * R script to run sleuth  \n",
    "    `sleuth.R`\n",
    "\n",
    "### Important questions\n",
    "\n",
    "**Can you summarise the experimental design?**\n",
    "\n",
    "The experimental design should explain what each sample represents, i.e. the conditions that were applied and how many replicates there were.  In this experiment, there are two conditions, wild type (WT) and knock out (KO), each of which has three biological replicates."
   ]
  },
  {
   "cell_type": "markdown",
   "metadata": {},
   "source": [
    "| Sample name | Condition | Replicate |\n",
    "| :-: | :-: | :-: |\n",
    "| WT | wild type | 1 |\n",
    "| WT | wild type | 2 |\n",
    "| WT | wild type | 3 |\n",
    "| KO | knock out | 1 |\n",
    "| KO | knock out | 2 |\n",
    "| KO | knock out | 3 |"
   ]
  },
  {
   "cell_type": "markdown",
   "metadata": {},
   "source": [
    "***"
   ]
  },
  {
   "cell_type": "markdown",
   "metadata": {},
   "source": [
    "## Aligning sample reads to the genome\n",
    "\n",
    "**First, we need to move into the directory containing the data.**"
   ]
  },
  {
   "cell_type": "code",
   "execution_count": 5,
   "metadata": {},
   "outputs": [],
   "source": [
    "cd /home/manager/course_data/group_projects/RNASeq_2"
   ]
  },
  {
   "cell_type": "markdown",
   "metadata": {},
   "source": [
    "**Then, we need to build our HISAT2 index for the genome.**"
   ]
  },
  {
   "cell_type": "code",
   "execution_count": null,
   "metadata": {},
   "outputs": [],
   "source": [
    "hisat2-build PbANKA_v3.fasta PbANKA_v3_hisat2.idx"
   ]
  },
  {
   "cell_type": "markdown",
   "metadata": {},
   "source": [
    "**Next, we can use a loop to align all of our sample files to the genome.**  \n",
    "\n",
    "_Be patient, this will take a while!_"
   ]
  },
  {
   "cell_type": "code",
   "execution_count": null,
   "metadata": {
    "scrolled": false
   },
   "outputs": [],
   "source": [
    "for fname in *_1.fq.gz\n",
    "do\n",
    "    # Get sample name from file name\n",
    "    sample=`echo \"$fname\" | cut -d'_' -f1`\n",
    "\n",
    "    # Align sample to genome\n",
    "    echo \"Aligning sample...\"${sample}\n",
    "    hisat2 --max-intronlen 10000 -x PbANKA_v3_hisat2.idx \\\n",
    "    -1 ${sample}_1.fq.gz -2 ${sample}_2.fq.gz \\\n",
    "    -S ${sample}.sam\n",
    "\n",
    "    # Convert SAM to sorted BAM\n",
    "    echo \"Converting sample SAM to sorted BAM...\"${sample}\n",
    "    samtools view -b ${sample}.sam | \\\n",
    "    samtools sort -o ${sample}.sorted.bam\n",
    "\n",
    "    # Index sorted BAM\n",
    "    echo \"Indexing sample BAM...\"${sample}\n",
    "    samtools index ${sample}.sorted.bam\n",
    "done"
   ]
  },
  {
   "cell_type": "markdown",
   "metadata": {},
   "source": [
    "### Important questions\n",
    "\n",
    "**What is the overall alignment rate of each of the samples?**\n",
    "\n",
    "It is important to look at the overall alignment rate (for the genome) as this can give an idea of whether there are any issues with the experiment (e.g. contamination - like we saw in the practical)."
   ]
  },
  {
   "cell_type": "markdown",
   "metadata": {},
   "source": [
    "| Sample name | Alignment rate|\n",
    "| :-: | :-: |\n",
    "| WT1 | % |\n",
    "| WT2 | % |\n",
    "| WT3 | % |\n",
    "| KO1 | % |\n",
    "| KO2 | % |\n",
    "| KO3 | % |"
   ]
  },
  {
   "cell_type": "markdown",
   "metadata": {},
   "source": [
    "This looks good, all of the samples have a relatively similar alignment rate >97%."
   ]
  },
  {
   "cell_type": "markdown",
   "metadata": {},
   "source": [
    "***"
   ]
  },
  {
   "cell_type": "markdown",
   "metadata": {},
   "source": [
    "## Visualising the genome alignments \n",
    "\n",
    "Before you can use IGV to visualise the genome, you must first index the genome using `samtools faidx`.\n",
    "\n",
    "**Index the genome with `samtools`.**"
   ]
  },
  {
   "cell_type": "code",
   "execution_count": 2,
   "metadata": {},
   "outputs": [],
   "source": [
    "samtools faidx PbANKA_v3.fasta"
   ]
  },
  {
   "cell_type": "markdown",
   "metadata": {},
   "source": [
    "Once that's finished, you need to load your genome (`PbANKA_v3.fasta`), annotation (`PbANKA_v3.gff3.gz`) and sorted alignment files (`[sample].sorted.bam`) into IGV.\n",
    "\n",
    "**First, start IGV.**  "
   ]
  },
  {
   "cell_type": "code",
   "execution_count": null,
   "metadata": {},
   "outputs": [],
   "source": [
    "igv.sh &"
   ]
  },
  {
   "cell_type": "markdown",
   "metadata": {},
   "source": [
    "**Load the genome file `Genomes -> Load Genome from File`**  \n",
    "\n",
    "**Load the annotation (gff) file `File -> Load from File`**   \n",
    "\n",
    "**Load the sorted sample BAM files `File -> Load from File`** \n",
    "\n",
    "**Make sure to set the alignment tracks to \"squished\" and to view reads as \"paired\".**\n",
    "\n",
    "**Type 'PBANKA_KO' in the search box and click 'Go'.**\n",
    "\n",
    "This will give you a view like the one below.  Here, we have coloured the WT coverage plots blue and the KO coverage plots red to make it a little easier to see the difference."
   ]
  },
  {
   "cell_type": "markdown",
   "metadata": {},
   "source": [
    "![images/PBANKA_KO_IGV.png](images/PBANKA_KO_IGV.png)"
   ]
  },
  {
   "cell_type": "markdown",
   "metadata": {},
   "source": [
    "### Important questions\n",
    "\n",
    "**Where in the genome is PBANKA_KO located?**\n",
    "\n",
    "You can get the co-ordinates of PBANKA_KO from the annotation file (`PbANKA_v3.gff3.gz`) using `grep` (first uncompressing the file with `gunzip`) or `zgrep`."
   ]
  },
  {
   "cell_type": "code",
   "execution_count": 3,
   "metadata": {},
   "outputs": [
    {
     "name": "stdout",
     "output_type": "stream",
     "text": [
      "PbANKA_09_v3\tchado\tgene\t196868\t201157\t.\t+\t.\tID=PBANKA_KO;Name=PBANKA_KO\n"
     ]
    }
   ],
   "source": [
    "zgrep gene.*PBANKA_KO PbANKA_v3.gff3.gz"
   ]
  },
  {
   "cell_type": "markdown",
   "metadata": {},
   "source": [
    "PBANKA_KO is located on the **forward strand** of **PbANKA_09_v3** between **196868** and **201157**."
   ]
  },
  {
   "cell_type": "markdown",
   "metadata": {},
   "source": [
    "**How many exons does PBANKA_KO have?**\n",
    "\n",
    "In IGV, you can see that PBANKA_KO has **two exons**.  "
   ]
  },
  {
   "cell_type": "markdown",
   "metadata": {},
   "source": [
    "![images/PBANKA_KO_IGV_exon.png](images/PBANKA_KO_IGV_exon.png)"
   ]
  },
  {
   "cell_type": "markdown",
   "metadata": {},
   "source": [
    "This can be confirmed by looking for the PBANKA_KO CDS annotations the GFF file. "
   ]
  },
  {
   "cell_type": "code",
   "execution_count": 4,
   "metadata": {},
   "outputs": [
    {
     "name": "stdout",
     "output_type": "stream",
     "text": [
      "PbANKA_09_v3\tchado\tCDS\t196868\t197309\t.\t+\t0\tID=PBANKA_KO.1:exon:2;Parent=PBANKA_KO.1\n",
      "PbANKA_09_v3\tchado\tCDS\t197409\t201157\t.\t+\t2\tID=PBANKA_KO.1:exon:1;Parent=PBANKA_KO.1\n"
     ]
    }
   ],
   "source": [
    "zgrep CDS.*PBANKA_KO PbANKA_v3.gff3.gz"
   ]
  },
  {
   "cell_type": "markdown",
   "metadata": {},
   "source": [
    "**Were all of the exons in PBANKA_KO knocked out?**\n",
    "\n",
    "No. Only the second exon was knocked out."
   ]
  },
  {
   "cell_type": "markdown",
   "metadata": {},
   "source": [
    "![images/PBANKA_KO_IGV_coverage.png](images/PBANKA_KO_IGV_coverage.png)"
   ]
  },
  {
   "cell_type": "markdown",
   "metadata": {},
   "source": [
    "***"
   ]
  },
  {
   "cell_type": "markdown",
   "metadata": {},
   "source": [
    "## Aligning sample reads to the transcriptome\n",
    "\n",
    "Before we can use `kallisto` to align the sample reads to the transcriptome, we first need to build a kallisto index of the transcriptome using `kallisto index`.\n",
    "\n",
    "**Build a Kallisto index of the tanscriptome (`Pb.CDS.fasta`) using `kallisto`.**"
   ]
  },
  {
   "cell_type": "code",
   "execution_count": 5,
   "metadata": {},
   "outputs": [
    {
     "name": "stdout",
     "output_type": "stream",
     "text": [
      "\n",
      "[build] loading fasta file Pb.CDS.fasta\n",
      "[build] k-mer length: 31\n",
      "[build] counting k-mers ... done.\n",
      "[build] building target de Bruijn graph ...  done \n",
      "[build] creating equivalence classes ...  done\n",
      "[build] target de Bruijn graph has 13763 contigs and contains 9949889 k-mers \n",
      "\n"
     ]
    }
   ],
   "source": [
    "kallisto index -i Pb.CDS.kallisto Pb.CDS.fasta"
   ]
  },
  {
   "cell_type": "markdown",
   "metadata": {},
   "source": [
    "As with the genome alignments, we can run the transcriptome alignments for all the samples using a loop.\n",
    "\n",
    "**Align your samples to the transcriptome using `kallisto quant`.**"
   ]
  },
  {
   "cell_type": "code",
   "execution_count": 6,
   "metadata": {},
   "outputs": [
    {
     "name": "stdout",
     "output_type": "stream",
     "text": [
      "kallisto quantification for sample...KO1\n",
      "\n",
      "[quant] fragment length distribution will be estimated from the data\n",
      "[index] k-mer length: 31\n",
      "[index] number of targets: 5,077\n",
      "[index] number of k-mers: 9,949,889\n",
      "[index] number of equivalence classes: 7,297\n",
      "[quant] running in paired-end mode\n",
      "[quant] will process pair 1: KO1_1.fq.gz\n",
      "                             KO1_2.fq.gz\n",
      "[quant] finding pseudoalignments for the reads ... done\n",
      "[quant] processed 2,898,714 reads, 2,341,894 reads pseudoaligned\n",
      "[quant] estimated average fragment length: 262.537\n",
      "[   em] quantifying the abundances ... done\n",
      "[   em] the Expectation-Maximization algorithm ran for 183 rounds\n",
      "[bstrp] running EM for the bootstrap: 100\n",
      "\n",
      "kallisto quantification for sample...KO2\n",
      "\n",
      "[quant] fragment length distribution will be estimated from the data\n",
      "[index] k-mer length: 31\n",
      "[index] number of targets: 5,077\n",
      "[index] number of k-mers: 9,949,889\n",
      "[index] number of equivalence classes: 7,297\n",
      "[quant] running in paired-end mode\n",
      "[quant] will process pair 1: KO2_1.fq.gz\n",
      "                             KO2_2.fq.gz\n",
      "[quant] finding pseudoalignments for the reads ... done\n",
      "[quant] processed 4,174,991 reads, 3,214,284 reads pseudoaligned\n",
      "[quant] estimated average fragment length: 213.317\n",
      "[   em] quantifying the abundances ... done\n",
      "[   em] the Expectation-Maximization algorithm ran for 291 rounds\n",
      "[bstrp] running EM for the bootstrap: 100\n",
      "\n",
      "kallisto quantification for sample...KO3\n",
      "\n",
      "[quant] fragment length distribution will be estimated from the data\n",
      "[index] k-mer length: 31\n",
      "[index] number of targets: 5,077\n",
      "[index] number of k-mers: 9,949,889\n",
      "[index] number of equivalence classes: 7,297\n",
      "[quant] running in paired-end mode\n",
      "[quant] will process pair 1: KO3_1.fq.gz\n",
      "                             KO3_2.fq.gz\n",
      "[quant] finding pseudoalignments for the reads ... done\n",
      "[quant] processed 4,554,756 reads, 3,330,989 reads pseudoaligned\n",
      "[quant] estimated average fragment length: 228.121\n",
      "[   em] quantifying the abundances ... done\n",
      "[   em] the Expectation-Maximization algorithm ran for 447 rounds\n",
      "[bstrp] running EM for the bootstrap: 100\n",
      "\n",
      "kallisto quantification for sample...WT1\n",
      "\n",
      "[quant] fragment length distribution will be estimated from the data\n",
      "[index] k-mer length: 31\n",
      "[index] number of targets: 5,077\n",
      "[index] number of k-mers: 9,949,889\n",
      "[index] number of equivalence classes: 7,297\n",
      "[quant] running in paired-end mode\n",
      "[quant] will process pair 1: WT1_1.fq.gz\n",
      "                             WT1_2.fq.gz\n",
      "[quant] finding pseudoalignments for the reads ... done\n",
      "[quant] processed 2,320,925 reads, 1,864,918 reads pseudoaligned\n",
      "[quant] estimated average fragment length: 273.761\n",
      "[   em] quantifying the abundances ... done\n",
      "[   em] the Expectation-Maximization algorithm ran for 295 rounds\n",
      "[bstrp] running EM for the bootstrap: 100\n",
      "\n",
      "kallisto quantification for sample...WT2\n",
      "\n",
      "[quant] fragment length distribution will be estimated from the data\n",
      "[index] k-mer length: 31\n",
      "[index] number of targets: 5,077\n",
      "[index] number of k-mers: 9,949,889\n",
      "[index] number of equivalence classes: 7,297\n",
      "[quant] running in paired-end mode\n",
      "[quant] will process pair 1: WT2_1.fq.gz\n",
      "                             WT2_2.fq.gz\n",
      "[quant] finding pseudoalignments for the reads ... done\n",
      "[quant] processed 3,853,672 reads, 3,009,465 reads pseudoaligned\n",
      "[quant] estimated average fragment length: 221.249\n",
      "[   em] quantifying the abundances ... done\n",
      "[   em] the Expectation-Maximization algorithm ran for 286 rounds\n",
      "[bstrp] running EM for the bootstrap: 100\n",
      "\n",
      "kallisto quantification for sample...WT3\n",
      "\n",
      "[quant] fragment length distribution will be estimated from the data\n",
      "[index] k-mer length: 31\n",
      "[index] number of targets: 5,077\n",
      "[index] number of k-mers: 9,949,889\n",
      "[index] number of equivalence classes: 7,297\n",
      "[quant] running in paired-end mode\n",
      "[quant] will process pair 1: WT3_1.fq.gz\n",
      "                             WT3_2.fq.gz\n",
      "[quant] finding pseudoalignments for the reads ... done\n",
      "[quant] processed 4,725,817 reads, 3,534,354 reads pseudoaligned\n",
      "[quant] estimated average fragment length: 228.001\n",
      "[   em] quantifying the abundances ... done\n",
      "[   em] the Expectation-Maximization algorithm ran for 187 rounds\n",
      "[bstrp] running EM for the bootstrap: 100\n",
      "\n"
     ]
    }
   ],
   "source": [
    "for fname in *_1.fq.gz\n",
    "do\n",
    "    # Get sample name from file name\n",
    "    sample=`echo \"$fname\" | cut -d'_' -f1`\n",
    "    \n",
    "    # Quantify transcript expression in sample\n",
    "    echo \"kallisto quantification for sample...\"${sample}\n",
    "    kallisto quant -i Pb.CDS.kallisto -o ${sample} -b 100 \\\n",
    "    ${sample}_1.fq.gz ${sample}_2.fq.gz\n",
    "done"
   ]
  },
  {
   "cell_type": "markdown",
   "metadata": {},
   "source": [
    "### Important questions\n",
    "\n",
    "**How many transcripts are there?**\n",
    "\n",
    "There are **5077** transcripts."
   ]
  },
  {
   "cell_type": "code",
   "execution_count": 7,
   "metadata": {},
   "outputs": [
    {
     "name": "stdout",
     "output_type": "stream",
     "text": [
      "5077\n"
     ]
    }
   ],
   "source": [
    " grep -c '>' Pb.CDS.fasta"
   ]
  },
  {
   "cell_type": "markdown",
   "metadata": {},
   "source": [
    "***"
   ]
  },
  {
   "cell_type": "markdown",
   "metadata": {},
   "source": [
    "## Run DE analysis in sleuth\n",
    "\n",
    "To identify differentially expressed genes you can use the R package, `sleuth`.  \n",
    "\n",
    "**Run the sleuth R script (`sleuth.R`).**"
   ]
  },
  {
   "cell_type": "code",
   "execution_count": 8,
   "metadata": {},
   "outputs": [
    {
     "name": "stdout",
     "output_type": "stream",
     "text": [
      "Loading required package: methods\n",
      "There were 15 warnings (use warnings() to see them)\n",
      "Error in file(file, \"rt\") : cannot open the connection\n",
      "Calls: read.table -> file\n",
      "In addition: Warning message:\n",
      "In file(file, \"rt\") :\n",
      "  cannot open file 'hiseq_info.txt': No such file or directory\n",
      "Execution halted\n"
     ]
    },
    {
     "ename": "",
     "evalue": "1",
     "output_type": "error",
     "traceback": []
    }
   ],
   "source": [
    "Rscript sleuth.R"
   ]
  },
  {
   "cell_type": "markdown",
   "metadata": {},
   "source": [
    "This should give you an error which contains:\n",
    "\n",
    "    cannot open file 'hiseq_info.txt': No such file or directory\n",
    "    \n",
    "**So, let's take a look at the R script and see what's going on.**"
   ]
  },
  {
   "cell_type": "code",
   "execution_count": 9,
   "metadata": {},
   "outputs": [
    {
     "name": "stdout",
     "output_type": "stream",
     "text": [
      "library(\"sleuth\")\n",
      "s2c <- read.table(\"hiseq_info.txt\", header = TRUE, stringsAsFactors=FALSE)\n",
      "\n",
      "sample_id <- c(\"WT1\", \"WT2\",\"WT3\", \"KO1\", \"KO2\", \"KO3\")\n",
      "kal_dirs <- sapply(sample_id, function(id) file.path(\".\", id))\n",
      "s2c <- dplyr::select(s2c, sample = sample, condition)\n",
      "s2c <- dplyr::mutate(s2c, path = kal_dirs)\n",
      "\n",
      "t2g<-read.table(\"Pb.names.txt\", header=T, sep=\"\\t\")\n",
      "\n",
      "so <- sleuth_prep(s2c, ~ condition, target_mapping = t2g, extra_bootstrap_summary = TRUE, read_bootstrap_tpm = TRUE)\n",
      "so <- sleuth_fit(so)\n",
      "so <- sleuth_fit(so, ~1, 'reduced')\n",
      "so <- sleuth_wt(so, 'conditionWT', 'full')\n",
      "\n",
      "results_table <- sleuth_results(so, 'conditionWT', test_type = 'wt')\n",
      "\n",
      "write.table(results_table, file=\"kallisto.results\", quote=FALSE, sep=\"\\t\", row.names=FALSE)\n",
      "\n",
      "sleuth_live(so)\n"
     ]
    }
   ],
   "source": [
    "cat sleuth.R"
   ]
  },
  {
   "cell_type": "markdown",
   "metadata": {},
   "source": [
    "Look at the second line:\n",
    "\n",
    "    s2c <- read.table(\"hiseq_info.txt\", header = TRUE, stringsAsFactors=FALSE)\n",
    "    \n",
    "The script is looking for a file called `hiseq_info.txt`.  \n",
    "\n",
    "**Let's see if the file has been given to you.**"
   ]
  },
  {
   "cell_type": "code",
   "execution_count": 10,
   "metadata": {},
   "outputs": [
    {
     "name": "stdout",
     "output_type": "stream",
     "text": [
      "ls: cannot access hiseq_info.txt: No such file or directory\n"
     ]
    },
    {
     "ename": "",
     "evalue": "2",
     "output_type": "error",
     "traceback": []
    }
   ],
   "source": [
    "ls hiseq_info.txt"
   ]
  },
  {
   "cell_type": "markdown",
   "metadata": {},
   "source": [
    "Nope.  Well...we did warn you that some files might be missing! But, that still doesn't tell us what the `hiseq_info.txt` file contains...\n",
    "\n",
    "**Let's take a look at the one we used in the practical.**"
   ]
  },
  {
   "cell_type": "code",
   "execution_count": 11,
   "metadata": {},
   "outputs": [
    {
     "name": "stdout",
     "output_type": "stream",
     "text": [
      "sample\tcondition\n",
      "MT1\tMT\n",
      "MT2\tMT\n",
      "SBP1\tSBP\n",
      "SBP2\tSBP\n",
      "SBP3\tSBP\n"
     ]
    }
   ],
   "source": [
    "cat /home/manager/pathogen-informatics-training/Notebooks/RNA-Seq/data/hiseq_info.txt"
   ]
  },
  {
   "cell_type": "markdown",
   "metadata": {},
   "source": [
    "So, it looks like this file indicates which condition was applied to each of the samples.\n",
    "\n",
    "**Copy the file from the practical into the same directory as your sleuth R script.**"
   ]
  },
  {
   "cell_type": "code",
   "execution_count": 12,
   "metadata": {},
   "outputs": [],
   "source": [
    "cp /home/manager/pathogen-informatics-training/Notebooks/RNA-Seq/data/hiseq_info.txt ."
   ]
  },
  {
   "cell_type": "markdown",
   "metadata": {},
   "source": [
    "**Let's check that worked.**"
   ]
  },
  {
   "cell_type": "code",
   "execution_count": 13,
   "metadata": {},
   "outputs": [
    {
     "name": "stdout",
     "output_type": "stream",
     "text": [
      "sample\tcondition\n",
      "MT1\tMT\n",
      "MT2\tMT\n",
      "SBP1\tSBP\n",
      "SBP2\tSBP\n",
      "SBP3\tSBP\n"
     ]
    }
   ],
   "source": [
    "cat hiseq_info.txt"
   ]
  },
  {
   "cell_type": "markdown",
   "metadata": {},
   "source": [
    "Good, now let's update this file so it contains our sample names.\n",
    "\n",
    "**You can edit the file manually by typing the following `nano` command in your terminal. Be careful which order you put the samples in.**"
   ]
  },
  {
   "cell_type": "code",
   "execution_count": null,
   "metadata": {},
   "outputs": [],
   "source": [
    "nano /home/manager/course_data/group_projects/RNASeq_1/hiseq_info.txt"
   ]
  },
  {
   "cell_type": "markdown",
   "metadata": {},
   "source": [
    "**Alternatively, you can make the edits using `sed`.**"
   ]
  },
  {
   "cell_type": "code",
   "execution_count": 14,
   "metadata": {},
   "outputs": [],
   "source": [
    "sed -ie 's/MT/WT/g' hiseq_info.txt\n",
    "sed -ie 's/SBP/KO/g' hiseq_info.txt\n",
    "sed -ie '/^WT2/a WT3\\tWT' hiseq_info.txt"
   ]
  },
  {
   "cell_type": "markdown",
   "metadata": {},
   "source": [
    "**And, check that it's worked.**"
   ]
  },
  {
   "cell_type": "code",
   "execution_count": 15,
   "metadata": {},
   "outputs": [
    {
     "name": "stdout",
     "output_type": "stream",
     "text": [
      "sample\tcondition\n",
      "WT1\tWT\n",
      "WT2\tWT\n",
      "WT3\tWT\n",
      "KO1\tKO\n",
      "KO2\tKO\n",
      "KO3\tKO\n"
     ]
    }
   ],
   "source": [
    "cat hiseq_info.txt"
   ]
  },
  {
   "cell_type": "markdown",
   "metadata": {},
   "source": [
    "Perfect, our six samples are now in the file.\n",
    "\n",
    "**So, let's try running that R script again.**"
   ]
  },
  {
   "cell_type": "code",
   "execution_count": null,
   "metadata": {},
   "outputs": [
    {
     "name": "stdout",
     "output_type": "stream",
     "text": [
      "Loading required package: methods\n",
      "There were 15 warnings (use warnings() to see them)\n",
      "reading in kallisto results\n",
      "dropping unused factor levels\n",
      "......\n",
      "normalizing est_counts\n",
      "4907 targets passed the filter\n",
      "normalizing tpm\n",
      "merging in metadata\n",
      "summarizing bootstraps\n",
      "......\n",
      "fitting measurement error models\n",
      "shrinkage estimation\n",
      "6 NA values were found during variance shrinkage estimation due to mean observation values outside of the range used for the LOESS fit.\n",
      "The LOESS fit will be repeated using exact computation of the fitted surface to extrapolate the missing values.\n",
      "These are the target ids with NA values: PBANKA_0007601, PBANKA_0008001, PBANKA_0837201, PBANKA_1200021, PBANKA_1465861, PBANKA_1342500\n",
      "computing variance of betas\n",
      "fitting measurement error models\n",
      "shrinkage estimation\n",
      "2 NA values were found during variance shrinkage estimation due to mean observation values outside of the range used for the LOESS fit.\n",
      "The LOESS fit will be repeated using exact computation of the fitted surface to extrapolate the missing values.\n",
      "These are the target ids with NA values: PBANKA_0837201, PBANKA_1465861\n",
      "computing variance of betas\n",
      "Loading required package: shiny\n",
      "\n",
      "Listening on http://127.0.0.1:42427\n",
      "Warning in seq_len(nrow(layout)) :\n",
      "  first element used of 'length.out' argument\n",
      "Warning in seq_len(nrow(layout)) :\n",
      "  first element used of 'length.out' argument\n",
      "Warning in seq_len(nrow(layout)) :\n",
      "  first element used of 'length.out' argument\n"
     ]
    }
   ],
   "source": [
    "Rscript sleuth.R"
   ]
  },
  {
   "cell_type": "markdown",
   "metadata": {},
   "source": [
    "**Click [http://127.0.0.1:42427](http://127.0.0.1:42427) to open the sleuth results in your web browser.**"
   ]
  },
  {
   "cell_type": "markdown",
   "metadata": {},
   "source": [
    "### Important questions\n",
    "\n",
    "**Can you summarise the data that's been processed (i.e. number of reads processed and the proportion of reads mapping to the genome and transcriptome)?**\n",
    "\n",
    "You can get a summary of the processed data by going to `summaries -> processed data`. "
   ]
  },
  {
   "cell_type": "markdown",
   "metadata": {},
   "source": [
    "![images/kallisto_processed_data.png](images/kallisto_processed_data.png)"
   ]
  },
  {
   "cell_type": "markdown",
   "metadata": {},
   "source": [
    "**Looking at the PCA plot (`maps -> PCA`) do you think the samples form tight, distinct clusters based on the condition (WT or KO) that was applied?**\n",
    "\n",
    "Reasonably, yes.  There is a clear vertical split between the WT and the KO samples."
   ]
  },
  {
   "cell_type": "markdown",
   "metadata": {},
   "source": [
    "![images/sleuth_original_pca.png](images/sleuth_original_pca.png)"
   ]
  },
  {
   "cell_type": "markdown",
   "metadata": {},
   "source": [
    "You can also look at the proportion of variance explained by each principal component (PC). As this is a single factor experiment, we would expect that if there were variation, most of this would be explained by the first principal component, PC1. Broadly speaking, this represents the variation resulting from the difference in condition (WT vs KO). You can see here that >90% of the variance is explained by PC1 (the vertical axis of the PCA plot above). "
   ]
  },
  {
   "cell_type": "markdown",
   "metadata": {},
   "source": [
    "![images/sleuth_original_pca_bar.png](images/sleuth_original_pca_bar.png)"
   ]
  },
  {
   "cell_type": "markdown",
   "metadata": {},
   "source": [
    "If you were to rerun the analysis with KO3 removed, the PCA plot does become a little clearer."
   ]
  },
  {
   "cell_type": "markdown",
   "metadata": {},
   "source": [
    "![images/sleuth_processed_pca.png](images/sleuth_processed_pca.png)"
   ]
  },
  {
   "cell_type": "markdown",
   "metadata": {},
   "source": [
    "**Was PBANKA_KO differentially expressed?**\n",
    "\n",
    "**Yes** as it's significantly (q-value < 0.05) more highly expressed (b > 0) in the WT samples. The beta value may be lower than you expect as only one of the two exons was knocked out (i.e. the reads mapping to the first exon will be counted towards the PBANKA_KO gene expression in the KO samples).\n",
    "\n",
    "For this, you need to go to `analyses -> test table` and enter PBANKA_KO in the search box."
   ]
  },
  {
   "cell_type": "markdown",
   "metadata": {},
   "source": [
    "![images/sleuth_test_table.png](images/sleuth_test_table.png)"
   ]
  },
  {
   "cell_type": "markdown",
   "metadata": {},
   "source": [
    "You can also look at the expression profiles by going to `analyses -> transcript view` and typing PBANKA_KO in the search box."
   ]
  },
  {
   "cell_type": "markdown",
   "metadata": {},
   "source": [
    "![images/sleuth_transcript_view.png](images/sleuth_transcript_view.png)"
   ]
  },
  {
   "cell_type": "markdown",
   "metadata": {},
   "source": [
    "**How many genes are more highly expressed in the WT samples than in the KO samples?**\n",
    "\n",
    "**828**"
   ]
  },
  {
   "cell_type": "code",
   "execution_count": 17,
   "metadata": {},
   "outputs": [
    {
     "name": "stdout",
     "output_type": "stream",
     "text": [
      "828\n"
     ]
    }
   ],
   "source": [
    "awk -F'\\t' '$4 < 0.01 && $5 > 0' kallisto.results | wc -l"
   ]
  },
  {
   "cell_type": "markdown",
   "metadata": {},
   "source": [
    "**How many genes are more highly expressed in the KO samples than in the WT samples?**\n",
    "\n",
    "**748**"
   ]
  },
  {
   "cell_type": "code",
   "execution_count": 18,
   "metadata": {},
   "outputs": [
    {
     "name": "stdout",
     "output_type": "stream",
     "text": [
      "748\n"
     ]
    }
   ],
   "source": [
    "awk -F'\\t' '$4 < 0.01 && $5 < 0' kallisto.results | wc -l"
   ]
  },
  {
   "cell_type": "markdown",
   "metadata": {},
   "source": [
    "**Write the gene IDs of the significantly differentially expressed genes to files for the next part of the analysis.**"
   ]
  },
  {
   "cell_type": "code",
   "execution_count": 19,
   "metadata": {},
   "outputs": [],
   "source": [
    "awk -F'\\t' '$4 < 0.01 && $5 > 0  {print $1}' kallisto.results > kallisto.WT.sig.genes\n",
    "awk -F'\\t' '$4 < 0.01 && $5 < 0  {print $1}' kallisto.results > kallisto.KO.sig.genes"
   ]
  },
  {
   "cell_type": "markdown",
   "metadata": {},
   "source": [
    "***"
   ]
  },
  {
   "cell_type": "markdown",
   "metadata": {},
   "source": [
    "## GO term enrichment analysis\n",
    "\n",
    "Gene ontology (GO) terms are a dictionary which can be used to assign functions to a gene or transcript. You can use [http://www.plasmodb.org](http://www.plasmodb.org) to perform a GO term enrichment analysis (i.e. which terms are significantly more abundant in your differentially expressed genes than in all of the genes as a whole).\n",
    "\n",
    "**Go to [http://www.plasmodb.org](http://www.plasmodb.org) in your web browser.**\n",
    "\n",
    "**Go to `My Strategies -> New`.**\n",
    "\n",
    "**Go to `Annotation, curation and identifiers -> Gene IDs`.**\n",
    "\n",
    "**Upload your file of gene IDs that were more highly expressed in the WT samples.**\n",
    "\n",
    "**Go to `Analyse results` (blue button) and `GO enrichment`.**\n",
    "\n",
    "**You want to do a GO analysis using the molecular functions (MF).** \n",
    "\n",
    "### Important questions\n",
    "\n",
    "**Which GO terms (molecular functions) are enriched in genes with higher expression in the WT samples?**\n",
    "\n",
    "You can get this from the table that the analysis generates. You could say that broadly speaking that this gene is involved in the regulation of motility, adhesion and the cell cycle."
   ]
  },
  {
   "cell_type": "markdown",
   "metadata": {},
   "source": [
    "![images/WT_MF_table.png](images/WT_MF_table.png)"
   ]
  },
  {
   "cell_type": "markdown",
   "metadata": {},
   "source": [
    "You can also use some of the other output options to find interesting ways of displaying this data."
   ]
  },
  {
   "cell_type": "markdown",
   "metadata": {},
   "source": [
    "![images/WT_MF_words.png](images/WT_MF_words.png)"
   ]
  },
  {
   "cell_type": "markdown",
   "metadata": {},
   "source": [
    "**Which GO terms (molecular functions) are enriched in genes with higher expression in the KO samples?**"
   ]
  },
  {
   "cell_type": "markdown",
   "metadata": {},
   "source": [
    "You'll need to run the same analysis with your KO file and look at the results table. It looks like there are changes in ribosomal processes."
   ]
  },
  {
   "cell_type": "markdown",
   "metadata": {},
   "source": [
    "![images/KO_MF_table.png](images/KO_MF_table.png)"
   ]
  },
  {
   "cell_type": "markdown",
   "metadata": {},
   "source": [
    "And again, there are several useful ways to visualise your results."
   ]
  },
  {
   "cell_type": "markdown",
   "metadata": {},
   "source": [
    "![images/KO_MF_words.png](images/KO_MF_words.png)"
   ]
  },
  {
   "cell_type": "markdown",
   "metadata": {},
   "source": [
    "***"
   ]
  },
  {
   "cell_type": "markdown",
   "metadata": {},
   "source": [
    "## What is PBANKA_KO?\n",
    "\n",
    "So, we've seen the influences of the knock out gene, but what is it? \n",
    "\n",
    "For this group task, we removed the real name of PBANKA_KO from all of the files we gave you. How mean! To get the real name of PBANKA_KO, we need the real genome annotation file.\n",
    "\n",
    "**Download the real annotation file from the FTP site (`Pberghei.gff3.gz`).**"
   ]
  },
  {
   "cell_type": "code",
   "execution_count": 1,
   "metadata": {},
   "outputs": [
    {
     "name": "stdout",
     "output_type": "stream",
     "text": [
      "--2018-12-11 10:49:33--  ftp://ftp.sanger.ac.uk/pub/project/pathogens/gff3/CURRENT/Pberghei.gff3.gz\n",
      "           => ‘Pberghei.gff3.gz’\n",
      "Resolving ftp.sanger.ac.uk (ftp.sanger.ac.uk)... 193.62.203.115\n",
      "Connecting to ftp.sanger.ac.uk (ftp.sanger.ac.uk)|193.62.203.115|:21... connected.\n",
      "Logging in as anonymous ... Logged in!\n",
      "==> SYST ... done.    ==> PWD ... done.\n",
      "==> TYPE I ... done.  ==> CWD (1) /pub/project/pathogens/gff3/CURRENT ... done.\n",
      "==> SIZE Pberghei.gff3.gz ... 9151369\n",
      "==> PASV ... done.    ==> RETR Pberghei.gff3.gz ... done.\n",
      "Length: 9151369 (8.7M) (unauthoritative)\n",
      "\n",
      "100%[======================================>] 9,151,369   8.71MB/s   in 1.0s   \n",
      "\n",
      "2018-12-11 10:49:34 (8.71 MB/s) - ‘Pberghei.gff3.gz’ saved [9151369]\n",
      "\n"
     ]
    }
   ],
   "source": [
    "wget ftp://ftp.sanger.ac.uk/pub/project/pathogens/gff3/CURRENT/Pberghei.gff3.gz"
   ]
  },
  {
   "cell_type": "markdown",
   "metadata": {},
   "source": [
    "Now, earlier on, you will have jotted down the location of PBANKA_KO in the genome.\n",
    "\n",
    "**Search for a gene with the same co-ordinates as PBANKA_KO in the reall annotation file.**"
   ]
  },
  {
   "cell_type": "code",
   "execution_count": 3,
   "metadata": {},
   "outputs": [
    {
     "name": "stdout",
     "output_type": "stream",
     "text": [
      "PbANKA_09_v3\tchado\tgene\t196868\t201157\t.\t+\t.\tID=PBANKA_0905900;Name=AP2-O;previous_systematic_id=PB000572.01.0,PB300102.00.0,PB000264.01.0,PBANKA_090590;synonym=ApiAP2\n"
     ]
    }
   ],
   "source": [
    "zgrep \"PbANKA_09_v3.*gene.*196868.*201157\" Pberghei.gff3.gz"
   ]
  },
  {
   "cell_type": "markdown",
   "metadata": {},
   "source": [
    "Looks like PBANKA_KO is really **PBANKA_0905900**, better known as **AP2-O**, in disguise!\n",
    "\n",
    "Looking into the literature, you will find that AP2-O encodes a transcription factor and plays a role in ookinete development. Thus, it makes sense that knocking out this gene will result in differential expression of genes involved in cell structure, cycle and motility."
   ]
  },
  {
   "cell_type": "code",
   "execution_count": 14,
   "metadata": {},
   "outputs": [
    {
     "name": "stdout",
     "output_type": "stream",
     "text": [
      "PBANKA_1006400\tconserved Plasmodium protein, unknown function\t8.43217106880059e-37\t6.13291805548218\n",
      "PBANKA_1037800\tsecreted ookinete adhesive protein\t2.93746634002303e-278\t5.30222160021813\n",
      "PBANKA_0800500\tchitinase\t3.45232774701234e-204\t5.2711755125222\n",
      "PBANKA_0201700\tconserved Plasmodium protein, unknown function\t4.18193490658365e-74\t5.15186429597038\n",
      "PBANKA_0609600\theat shock protein 20, putative\t1.29020957359245e-19\t4.97390138802336\n",
      "PBANKA_1119200\tsecreted ookinete protein 25 //  ookinete surface-associated protein 8\t1.51264472823999e-108\t4.89652647824314\n",
      "PBANKA_1106900\tPIMMS2 protein\t5.33282623432314e-193\t4.48135406144008\n",
      "PBANKA_1457700\tconserved Plasmodium protein, unknown function\t1.44669681853367e-81\t3.84309630526164\n",
      "PBANKA_1017000\tCorA-like Mg2+ transporter protein, putative\t1.07807943500591e-75\t3.69705577143191\n",
      "PBANKA_0410650\tconserved Plasmodium protein, unknown function\t1.64944349522743e-57\t3.67381093875636\n",
      "PBANKA_0412900\tcircumsporozoite- and TRAP-related protein\t2.81639952956053e-117\t3.63636393091545\n",
      "PBANKA_0706500\texonuclease, putative\t1.52673479435322e-108\t3.52049647336443\n",
      "PBANKA_0816500\tconserved Plasmodium protein, unknown function\t8.33600109549623e-116\t3.47691035940916\n",
      "PBANKA_1200700\tconserved Plasmodium protein, unknown function\t9.64940116285477e-91\t3.38600121030018\n",
      "PBANKA_1218100\toocyst capsule protein Cap380\t1.92342069702304e-90\t3.26319214496421\n",
      "PBANKA_1465700\tfam-a protein\t1.56466365265289e-06\t3.26312894093475\n",
      "PBANKA_1006500\ttRNA N6-adenosine threonylcarbamoyltransferase, putative\t6.41186317887028e-53\t3.17798312235468\n",
      "PBANKA_1006200\tsporozoite invasion-associated protein 1\t2.9049607385397e-115\t3.13301350526784\n",
      "PBANKA_0916000\tconserved Plasmodium protein, unknown function\t1.06105405587826e-36\t3.12077601434806\n",
      "PBANKA_1225400\tgamete release protein //  IMC-associated apicomplexan protein\t1.96057194446868e-104\t2.96895707639986\n",
      "PBANKA_1410950\tapical ring associated protein 1\t2.4918299287875e-53\t2.78254783626832\n",
      "PBANKA_1107600\t6-cysteine protein\t2.36352970717302e-66\t2.69661515431422\n",
      "PBANKA_0706600\tconserved Plasmodium protein, unknown function\t5.22458742729719e-32\t2.63885027047373\n",
      "PBANKA_0711100\tconserved Plasmodium protein, unknown function\t1.61145624445315e-69\t2.57792642712634\n",
      "PBANKA_1224600\tconserved Plasmodium protein, unknown function\t1.22800825740151e-32\t2.55594614312897\n",
      "sort: write failed: standard output: Broken pipe\n",
      "sort: write error\n"
     ]
    }
   ],
   "source": [
    "awk -F'\\t' '$4 < 0.01 && $5 > 0  {OFS=\"\\t\"; print $1,$2,$4,$5}' kallisto.results | sort -t$'\\t' -k4 -nr | head -25"
   ]
  },
  {
   "cell_type": "code",
   "execution_count": 13,
   "metadata": {},
   "outputs": [
    {
     "name": "stdout",
     "output_type": "stream",
     "text": [
      "PBANKA_1438000\tcAMP-dependent protein kinase regulatory subunit, putative\t0.00903851762262946\t-0.389994129261354\n",
      "PBANKA_1459400\tconserved Plasmodium protein, unknown function\t0.00903782721656809\t-0.391323453116088\n",
      "PBANKA_1441300\tRAP protein, putative\t0.00858416310736202\t-0.39340997629559\n",
      "PBANKA_1016300\tproliferation-associated protein 2g4, putative\t0.0064420363837743\t-0.400815377153955\n",
      "PBANKA_1208000\ttubulin--tyrosine ligase, putative\t0.00687563554289438\t-0.405613504921808\n",
      "PBANKA_0307000\t60S ribosomal protein L37ae, putative\t0.0092366702981869\t-0.407233797568315\n",
      "PBANKA_1362400\tconserved Plasmodium protein, unknown function\t0.00817177618616866\t-0.409404094365412\n",
      "PBANKA_1320700\tsignal peptide peptidase, putative\t0.00714889632345314\t-0.411057367014384\n",
      "PBANKA_1228200\tglutamate dehydrogenase, putative\t0.00502484463091534\t-0.41300870229637\n",
      "PBANKA_0602300\tconserved Plasmodium protein, unknown function\t0.00622054560962365\t-0.413075585629026\n",
      "PBANKA_1349700\tconserved Plasmodium protein, unknown function\t0.00582177421592755\t-0.415790825687952\n",
      "PBANKA_1032600\tcytidine diphosphate-diacylglycerol synthase, putative\t0.00554236874270015\t-0.416373205573751\n",
      "PBANKA_1027000\tserine palmitoyltransferase, putative\t0.00428545788332558\t-0.416474779127738\n",
      "PBANKA_1415400\tconserved Plasmodium protein, unknown function\t0.00498797528354801\t-0.416765872670611\n",
      "PBANKA_0210100\tvacuolar protein sorting-associated protein VTA1, putative\t0.00713308726064418\t-0.417512915166146\n",
      "PBANKA_1446300\tpre-mRNA-splicing factor ATP-dependent RNA helicase PRP2, putative\t0.00580568367563798\t-0.417593922560586\n",
      "PBANKA_1317900\tconserved Plasmodium protein, unknown function\t0.00443403121141928\t-0.417814049046496\n",
      "PBANKA_0612800\tDEAD box ATP-dependent RNA helicase, putative\t0.00431974488195921\t-0.418003547839331\n",
      "PBANKA_1460400\tpeptidyl-prolyl cis-trans isomerase FKBP35, putative //  FK506-binding protein, putative\t0.00516292128802686\t-0.419715039513633\n",
      "PBANKA_0914600\tRNA (uracil-5-)methyltransferase, putative\t0.00441338398494275\t-0.420703886077715\n",
      "PBANKA_1215900\tconserved Plasmodium protein, unknown function\t0.00651425947803294\t-0.423682251028433\n",
      "PBANKA_1007200\treplication protein A1, large subunit, putative\t0.00432416835879163\t-0.423785476737027\n",
      "PBANKA_0301700\t5'-3' exonuclease, putative\t0.00463852035032405\t-0.424195586961421\n",
      "PBANKA_1131600\tDNA replication licensing factor MCM6, putative\t0.00367264142372813\t-0.425912001685478\n",
      "PBANKA_1317300\tRAP protein, putative\t0.00846078092644478\t-0.428776932499927\n",
      "sort: write failed: standard output: Broken pipe\n",
      "sort: write error\n"
     ]
    }
   ],
   "source": [
    "awk -F'\\t' '$4 < 0.01 && $5 < 0  {OFS=\"\\t\"; print $1,$2,$4,$5}' kallisto.results | sort -t$'\\t' -k4 -nr | head -25"
   ]
  },
  {
   "cell_type": "code",
   "execution_count": null,
   "metadata": {},
   "outputs": [],
   "source": []
  }
 ],
 "metadata": {
  "anaconda-cloud": {},
  "kernelspec": {
   "display_name": "Bash",
   "language": "bash",
   "name": "bash"
  },
  "language_info": {
   "codemirror_mode": "shell",
   "file_extension": ".sh",
   "mimetype": "text/x-sh",
   "name": "bash"
  }
 },
 "nbformat": 4,
 "nbformat_minor": 2
}
